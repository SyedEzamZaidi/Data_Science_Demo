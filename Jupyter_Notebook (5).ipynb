{
 "cells": [
  {
   "cell_type": "markdown",
   "metadata": {},
   "source": [
    "<center>\n",
    "    <img src=\"https://cf-courses-data.s3.us.cloud-object-storage.appdomain.cloud/IBMDeveloperSkillsNetwork-DS0105EN-SkillsNetwork/labs/Module2/images/SN_web_lightmode.png\" width=\"300\" alt=\"cognitiveclass.ai logo\">\n",
    "</center>\n"
   ]
  },
  {
   "cell_type": "markdown",
   "metadata": {},
   "source": [
    "#### Add your code below following the instructions given in the course\n"
   ]
  },
  {
   "cell_type": "markdown",
   "metadata": {},
   "source": [
    "# Peer Graded Assignment "
   ]
  },
  {
   "cell_type": "markdown",
   "metadata": {},
   "source": [
    "This Notebook is created to be assesed by my peers. This is the third notebook that I am creating because of the bad assesment explanation from the course makers. However, I got to learn better and I am hoping my peers will grade me well because of my efforts :)"
   ]
  },
  {
   "cell_type": "markdown",
   "metadata": {},
   "source": [
    "Here is a list of Data Science Languages : \n",
    "1. Python\n",
    "2. R\n",
    "3. SQL\n",
    "4. Julia\n",
    "5. Javascript\n",
    "6. Scala\n",
    "7. Java\n",
    "8. Go\n",
    "9. MATLAB\n",
    "10. C/C++\n",
    "11. SAS\n"
   ]
  },
  {
   "cell_type": "markdown",
   "metadata": {},
   "source": [
    "Here is a list of Data Science Libraries : \n",
    "1. Pandas\n",
    "2. NumPy\n",
    "3. TensorFlow\n",
    "4. Sci-kit Learn\n",
    "5. SciPy\n",
    "6. Matplotlib\n",
    "7. PyTorch\n",
    "8. Keras\n",
    "9. Seaborn\n",
    "10. Orange"
   ]
  },
  {
   "cell_type": "markdown",
   "metadata": {},
   "source": [
    "Here is a list of Data Science Tools : \n",
    "1. Apache Spark\n",
    "2. BigML\n",
    "3. D3.js\n",
    "4. MATLAB\n",
    "5. Excel\n",
    "6. ggPlot2\n",
    "7. Tableau\n",
    "8. Jupyter\n",
    "\n"
   ]
  },
  {
   "cell_type": "markdown",
   "metadata": {},
   "source": [
    "$(a+b)^2 = a^2 + 2ab + b^ $"
   ]
  },
  {
   "cell_type": "code",
   "execution_count": 1,
   "metadata": {},
   "outputs": [
    {
     "name": "stdout",
     "output_type": "stream",
     "text": [
      "Sum of a and b is = 15\n",
      "Product of a and b = 50\n"
     ]
    }
   ],
   "source": [
    "a= 5\n",
    "b= 10\n",
    "c= a+b\n",
    "d=a*b\n",
    "\n",
    "print(\"Sum of a and b is =\", c)\n",
    "print(\"Product of a and b =\",d)"
   ]
  },
  {
   "cell_type": "code",
   "execution_count": 5,
   "metadata": {},
   "outputs": [
    {
     "name": "stdout",
     "output_type": "stream",
     "text": [
      "Enter the number of minutes: 60\n",
      "Number of hours is 1.0\n"
     ]
    }
   ],
   "source": [
    "minutes = int(input(\"Enter the number of minutes: \"))\n",
    "hours = minutes / 60\n",
    "print(\"Number of hours is\", hours )\n",
    "\n"
   ]
  },
  {
   "cell_type": "markdown",
   "metadata": {},
   "source": [
    "Here is a list of objectives:\n",
    "- Learn Python\n",
    "- Learn Machine Learning \n",
    "- Improve Maths \n",
    "- Do not get scared of the roadmap \n",
    "- Get an epic job in Data Science"
   ]
  },
  {
   "cell_type": "markdown",
   "metadata": {},
   "source": [
    "The name of the Author for this Notebook is **Ezam Zaidi** "
   ]
  }
 ],
 "metadata": {
  "kernelspec": {
   "display_name": "Python 3.10",
   "language": "python",
   "name": "python3"
  },
  "language_info": {
   "codemirror_mode": {
    "name": "ipython",
    "version": 3
   },
   "file_extension": ".py",
   "mimetype": "text/x-python",
   "name": "python",
   "nbconvert_exporter": "python",
   "pygments_lexer": "ipython3",
   "version": "3.10.9"
  }
 },
 "nbformat": 4,
 "nbformat_minor": 4
}
